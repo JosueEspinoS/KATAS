{
 "cells": [
  {
   "cell_type": "markdown",
   "metadata": {},
   "source": [
    "# Ejercicio: Uso de funciones en Python\n",
    "## Ejercicio 1: Trabajar con argumentos en funciones\n",
    "Los argumentos requeridos en las funciones se utilizan cuando las funciones necesitan que esos argumentos funcionen correctamente. En este ejercicio, construirás un informe de combustible que requiere información de varias ubicaciones de combustible en todo el cohete."
   ]
  },
  {
   "cell_type": "code",
   "execution_count": 14,
   "metadata": {},
   "outputs": [],
   "source": [
    "# Función para leer 3 tanques de combustible y muestre el promedio\n",
    "def infoFuelTanks(tank1, tank2, tank3):\n",
    "    average = (tank1 + tank2 + tank3) / 3\n",
    "    return f'Fuel Report:\\nTank 1 : {tank1} %. \\nTank 2 : {tank2} %. \\nTank 3 : {tank3} %. \\nAverage tanks is: {average} %.'\n"
   ]
  },
  {
   "cell_type": "code",
   "execution_count": 15,
   "metadata": {},
   "outputs": [
    {
     "name": "stdout",
     "output_type": "stream",
     "text": [
      "Fuel Report:\n",
      "Tank 1 : 90 %. \n",
      "Tank 2 : 5 %. \n",
      "Tank 3 : 45 %. \n",
      "Average tanks is: 46.666666666666664 %.\n"
     ]
    }
   ],
   "source": [
    "# Llamamos a la función que genera el reporte print(funcion(tanque1, tanque2, tanque3))\n",
    "print(infoFuelTanks(90,5,45))\n",
    "\n"
   ]
  },
  {
   "cell_type": "code",
   "execution_count": 27,
   "metadata": {},
   "outputs": [
    {
     "data": {
      "text/plain": [
       "46.666666666666664"
      ]
     },
     "execution_count": 27,
     "metadata": {},
     "output_type": "execute_result"
    }
   ],
   "source": [
    "# Función promedio \n",
    "\n",
    "def average(*values):\n",
    "    total = sum(values)\n",
    "    lenValues = len(values)\n",
    "    return total / lenValues\n",
    "\n",
    "average(90,5,45)\n",
    "\n"
   ]
  },
  {
   "cell_type": "markdown",
   "metadata": {},
   "source": [
    "Ahora actualiza la función de informes para llamando a la nueva función del promedio:"
   ]
  },
  {
   "cell_type": "code",
   "execution_count": 28,
   "metadata": {},
   "outputs": [],
   "source": [
    "# Actualiza la función\n",
    "\n",
    "def infoFuelTanks(tank1, tank2, tank3):    \n",
    "    return f'Fuel Report:\\nTank 1 : {tank1} %. \\nTank 2 : {tank2} %. \\nTank 3 : {tank3} %. \\nAverage tanks is: {average(tank1,tank2,tank3)} %.'\n",
    "\n"
   ]
  },
  {
   "cell_type": "code",
   "execution_count": 29,
   "metadata": {},
   "outputs": [
    {
     "name": "stdout",
     "output_type": "stream",
     "text": [
      "Fuel Report:\n",
      "Tank 1 : 90 %. \n",
      "Tank 2 : 5 %. \n",
      "Tank 3 : 45 %. \n",
      "Average tanks is: 46.666666666666664 %.\n"
     ]
    }
   ],
   "source": [
    "print(infoFuelTanks(90,5,45))"
   ]
  },
  {
   "cell_type": "markdown",
   "metadata": {},
   "source": [
    "## Ejercicio 2: Trabajo con argumentos de palabra clave\n",
    "### Ejercicio : Trabajar con argumentos de palabras clave en funciones\n",
    "En este ejercicio, construirás un informe de cohete que requiere varias piezas de información, como el tiempo hasta el destino, el combustible a la izquierda y el nombre del destino. Comienza por crear una función que creará un informe preciso de la misión:"
   ]
  },
  {
   "cell_type": "code",
   "execution_count": 56,
   "metadata": {},
   "outputs": [
    {
     "name": "stdout",
     "output_type": "stream",
     "text": [
      "\n",
      "    Mission to Mars\n",
      "    Total time travel : 510 minutes\n",
      "    InfoTanks : 95000 Gal\n",
      "    \n"
     ]
    }
   ],
   "source": [
    "# Función con un informe preciso de la misión. Considera hora de prelanzamiento, tiempo de vuelo, destino, tanque externo y tanque interno\n",
    "#hora de prelanzamiento, tiempo de vuelo, destino, tanque externo y tanque interno\n",
    "def fullInfo(tPrelaunch, tFlight , destination, tankExt, tankIn):\n",
    "    return f'''\n",
    "    Mission to {destination}\n",
    "    Total time travel : {tPrelaunch+tFlight} minutes\n",
    "    InfoTanks : {tankExt+tankIn} Gal\n",
    "    '''\n",
    "    #External tank: {tankExt+tankIn}%\n",
    "    #Inner tank {tankIn}%\n",
    "    \n",
    "\n",
    "print(fullInfo(10,500,'Mars',45000,50000))"
   ]
  },
  {
   "cell_type": "markdown",
   "metadata": {},
   "source": [
    "La función es problemática porque no se puede adaptar para minutos adicionales o tanques adicionales de combustible. Hazlo más flexible permitiendo cualquier número de pasos basados en el tiempo y cualquier número de tanques. En lugar de usar ***args** y ****kwargs**, aprovecha el hecho de que puedes usar cualquier nombre que desees. Asegurate que la función sea más legible mediante el uso de nombres de variables que están asociados con las entradas, como ***minutes** y ****fuel_reservoirs:**"
   ]
  },
  {
   "cell_type": "code",
   "execution_count": 83,
   "metadata": {},
   "outputs": [
    {
     "name": "stdout",
     "output_type": "stream",
     "text": [
      "\n",
      "    Mission to Moon\n",
      "    Total time travel : 822 minutes\n",
      "    Total fuel left : 850000 Gal\n",
      "    tank type: internal : 500000 Gal\n",
      "    tank type: external : 100000 Gal\n",
      "    tank type: hydrogen : 250000 Gal\n",
      "\n"
     ]
    }
   ],
   "source": [
    "# Escribe tu nueva función de reporte considerando lo anterior\n",
    "def fullInfo(destination, *minutes, **fuel_reservoits):\n",
    "    report= f'''\n",
    "    Mission to {destination}\n",
    "    Total time travel : {sum(minutes)} minutes\n",
    "    Total fuel left : {sum(fuel_reservoits.values())} Gal\\n'''\n",
    "\n",
    "    #Debido a que el combustible que queda en los tanques es específico de cada tanqueactualiza la función para usar el nombre de cada tanque en el informe:\n",
    "    for tankName, gal in fuel_reservoits.items():\n",
    "        report = report + f'    tank type: {tankName} : {gal} Gal\\n'    \n",
    "    return report\n",
    "\n",
    "\n",
    "print(fullInfo('Moon',12,60,500,250,internal=500000, external=100000, hydrogen=250000))"
   ]
  }
 ],
 "metadata": {
  "interpreter": {
   "hash": "90a4ae79acd39aaf43b52fd6250d6c279ea81b815fe3d1d65967881191566a77"
  },
  "kernelspec": {
   "display_name": "Python 3.8.3 32-bit",
   "language": "python",
   "name": "python3"
  },
  "language_info": {
   "codemirror_mode": {
    "name": "ipython",
    "version": 3
   },
   "file_extension": ".py",
   "mimetype": "text/x-python",
   "name": "python",
   "nbconvert_exporter": "python",
   "pygments_lexer": "ipython3",
   "version": "3.8.3"
  },
  "orig_nbformat": 4
 },
 "nbformat": 4,
 "nbformat_minor": 2
}
