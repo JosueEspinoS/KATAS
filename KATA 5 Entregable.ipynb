{
 "cells": [
  {
   "cell_type": "markdown",
   "metadata": {},
   "source": [
    "# Ejercicios KATA 5\n"
   ]
  },
  {
   "cell_type": "markdown",
   "metadata": {},
   "source": [
    "### Ejercicio1 - Utilizar operadores aritméticos\n",
    "#### Operadores aritméticos en Python\n",
    "Exploremos cómo podemos crear un programa que pueda calcular la distancia entre dos planetas. Comenzaremos usando dos distancias de planetas: Tierra (149.597.870 km) y Júpiter (778.547.200 km)."
   ]
  },
  {
   "cell_type": "code",
   "execution_count": 2,
   "metadata": {},
   "outputs": [
    {
     "name": "stdout",
     "output_type": "stream",
     "text": [
      "628949330\n",
      "390577533.93\n"
     ]
    }
   ],
   "source": [
    "# Crear variables para almacenar las dos distancias\n",
    "# ¡Asegúrate de quitar las comas!\n",
    "tierra = 149597870\n",
    "jupiter = 778547200\n",
    "# Calcular la distancia entre planetas\n",
    "distanciaKm = abs(tierra - jupiter)\n",
    "print(abs(distanciaKm))\n",
    "distanciaMi = distanciaKm * 0.621 \n",
    "#Sin redondear\n",
    "print(distanciaMi)\n",
    "#Redondeado\n",
    "#print(round(distanciaMi))\n"
   ]
  },
  {
   "cell_type": "markdown",
   "metadata": {},
   "source": [
    "### Ejercicio 2: convierte cadenas en números y usa valores absolutos\n",
    " #### Crear una aplicación para trabajar con números y entrada de usuario\n",
    " Con frecuencia, deberás convertir los valores de cadena en números para realizar correctamente diferentes operaciones o determinar el valor absoluto de un número.\n",
    "\n",
    "Para crear nuestra aplicación, queremos leer la distancia del sol para dos planetas, y luego mostrar la distancia entre los planetas. Haremos esto usando input para leer los valores, int para convertir a entero y luego abs para convertir el resultado en su valor absoluto."
   ]
  },
  {
   "cell_type": "code",
   "execution_count": null,
   "metadata": {},
   "outputs": [
    {
     "name": "stdout",
     "output_type": "stream",
     "text": [
      "628949330\n",
      "390577533.93\n"
     ]
    }
   ],
   "source": [
    "# Almacenar las entradas del usuario\n",
    "# Convierte las cadenas de ambos planetas a números enteros\n",
    "planeta1 = int(input('Inserta la distancia de planeta 1'))\n",
    "planeta2 = int(input('Inserta la distancia de planeta 1'))\n",
    "# Realizar el cálculo y determinar el valor absoluto\n",
    "distanciaKm = abs(planeta2 - planeta1)\n",
    "print(distanciaKm)\n",
    "# Convertir de KM a Millas\n",
    "distanciaMi = distanciaKm * 0.621\n",
    "print (distanciaMi)\n",
    "\n",
    "# Valores de los input\n",
    "# print([planeta1,planeta2])"
   ]
  }
 ],
 "metadata": {
  "interpreter": {
   "hash": "90a4ae79acd39aaf43b52fd6250d6c279ea81b815fe3d1d65967881191566a77"
  },
  "kernelspec": {
   "display_name": "Python 3.8.3 32-bit",
   "language": "python",
   "name": "python3"
  },
  "language_info": {
   "codemirror_mode": {
    "name": "ipython",
    "version": 3
   },
   "file_extension": ".py",
   "mimetype": "text/x-python",
   "name": "python",
   "nbconvert_exporter": "python",
   "pygments_lexer": "ipython3",
   "version": "3.8.3"
  },
  "orig_nbformat": 4
 },
 "nbformat": 4,
 "nbformat_minor": 2
}
