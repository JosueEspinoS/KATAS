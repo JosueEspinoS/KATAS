{
 "cells": [
  {
   "cell_type": "markdown",
   "metadata": {},
   "source": [
    "## EJERCICIOS KATA 3"
   ]
  },
  {
   "cell_type": "markdown",
   "metadata": {},
   "source": [
    "> Un asteroide se acerca, y viaja a una velocidad de 49 km/s."
   ]
  },
  {
   "cell_type": "code",
   "execution_count": 1,
   "metadata": {},
   "outputs": [
    {
     "name": "stdout",
     "output_type": "stream",
     "text": [
      "ADVERTENCIA! un asteroide se acerca rápidamente \n"
     ]
    }
   ],
   "source": [
    "#velocidad del asteroide \n",
    "aVelocidad = 49\n",
    "\n",
    "if aVelocidad > 25:\n",
    "    print(\"ADVERTENCIA! un asteroide se acerca rápidamente \")\n",
    "else:\n",
    "    print(\"No pasa nada\")\n",
    "\n"
   ]
  },
  {
   "cell_type": "markdown",
   "metadata": {},
   "source": [
    "Mismo ejercicio con Input en Velocidad del asteroide\n"
   ]
  },
  {
   "cell_type": "code",
   "execution_count": null,
   "metadata": {},
   "outputs": [],
   "source": [
    "#velocidad del asteroide \n",
    "aVelocidad = input(\"velocidad del asteroide: \") \n",
    "#Velocidad superior a 25 alerta\n",
    "velocidadAlerta = 25\n",
    "if int(aVelocidad) > velocidadAlerta:\n",
    "    print(\"ADVERTENCIA! un asteroide se acerca rápidamente \")\n"
   ]
  },
  {
   "cell_type": "markdown",
   "metadata": {},
   "source": [
    "> Si un asteroide entra en la atmósfera de la Tierra a una velocidad **mayor o igual a 20 km/s**, a veces produce un rayo de luz que se puede ver desde la Tierra. Escribe la lógica condicional que usa declaraciones if, else, y elif para alertar a las personas de todo el mundo que deben buscar un asteroide en el cielo. ¡Hay uno que se dirige a la tierra ahora a una velocidad de 19 km/s!"
   ]
  },
  {
   "cell_type": "code",
   "execution_count": 35,
   "metadata": {},
   "outputs": [
    {
     "name": "stdout",
     "output_type": "stream",
     "text": [
      "No buscar en el cielo asteroide\n"
     ]
    }
   ],
   "source": [
    "aVelocidad = 19\n",
    "if aVelocidad > 20:\n",
    "    print(\"Produce rayo, busca un asteroide en el cielo\")\n",
    "elif aVelocidad == 20:\n",
    "     print(\"Produce rayo, busca un asteroide en el cielo\")\n",
    "else:\n",
    "    print('Nada que buscar')\n",
    "\n",
    "\n",
    "\n",
    "\n",
    "\n"
   ]
  },
  {
   "cell_type": "markdown",
   "metadata": {},
   "source": [
    "### EJERCICIOS IF,elif,else con OR | AND"
   ]
  },
  {
   "cell_type": "code",
   "execution_count": 36,
   "metadata": {},
   "outputs": [
    {
     "name": "stdout",
     "output_type": "stream",
     "text": [
      "Alerta, se acerca un asteroide muy peligroso\n"
     ]
    }
   ],
   "source": [
    "velocidadAsteroide = 50\n",
    "sizeAsteroide = 60\n",
    "\n",
    "if sizeAsteroide>25 and velocidadAsteroide >25:\n",
    "    print(\"Alerta, se acerca un asteroide muy peligroso\")\n",
    "elif velocidadAsteroide >=20:\n",
    "    print (\"Produce rayo, busca un asteroide en el cielo\")\n",
    "\n",
    "\n",
    "else:\n",
    "    print(\"probablemente se quemarán a medida que entren en la atmósfera de la Tierra\")\n"
   ]
  }
 ],
 "metadata": {
  "interpreter": {
   "hash": "90a4ae79acd39aaf43b52fd6250d6c279ea81b815fe3d1d65967881191566a77"
  },
  "kernelspec": {
   "display_name": "Python 3.8.3 32-bit",
   "language": "python",
   "name": "python3"
  },
  "language_info": {
   "codemirror_mode": {
    "name": "ipython",
    "version": 3
   },
   "file_extension": ".py",
   "mimetype": "text/x-python",
   "name": "python",
   "nbconvert_exporter": "python",
   "pygments_lexer": "ipython3",
   "version": "3.8.3"
  },
  "orig_nbformat": 4
 },
 "nbformat": 4,
 "nbformat_minor": 2
}
