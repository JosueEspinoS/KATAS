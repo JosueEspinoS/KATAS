{
 "cells": [
  {
   "cell_type": "markdown",
   "metadata": {},
   "source": [
    "## **Modulo 1 Ejercicios**\n",
    "\n",
    "> ### 1-Tu primer programa\n",
    "\n",
    "> - Finaliza el código siguiente para que el resultado muestre la fecha de hoy."
   ]
  },
  {
   "cell_type": "code",
   "execution_count": 1,
   "metadata": {},
   "outputs": [
    {
     "name": "stdout",
     "output_type": "stream",
     "text": [
      "Today's date is: 2022-02-11\n"
     ]
    }
   ],
   "source": [
    "from datetime import date \n",
    "\n",
    "print(\"Today's date is: \" + str(date.today()))\n"
   ]
  },
  {
   "cell_type": "markdown",
   "metadata": {},
   "source": [
    "> #### __*Resolución*__ \n",
    ">> 1.- Para trabajar con fechas se debe importar el Módulo **date**.\n",
    "\n",
    ">> 2.- Ocupamos **str()** para convertir el tipo de dato Datetime a String, Así podremos concatenar una fecha en un String "
   ]
  },
  {
   "cell_type": "markdown",
   "metadata": {},
   "source": [
    "> ### 2-Construir un convertidor de unidades\n",
    "\n",
    "> - TIP 1 parsec es 3.26156 años luz. Utiliza el operador de multiplicación."
   ]
  },
  {
   "cell_type": "code",
   "execution_count": 2,
   "metadata": {},
   "outputs": [
    {
     "name": "stdout",
     "output_type": "stream",
     "text": [
      "11 Parsec is 35.877159999999996 ligthyears\n"
     ]
    }
   ],
   "source": [
    "parsec = 11\n",
    "lightyears = int(parsec) * 3.26156\n",
    "print(str(parsec) + \" Parsec is \" + str(lightyears) + \" ligthyears\")"
   ]
  },
  {
   "cell_type": "markdown",
   "metadata": {},
   "source": [
    "> ### Otra posible solución \n",
    ">> 1.-Implementar **input()** en nuestro programa, así el usuario podra ingresar cualquier valor que quiera convertir.\n",
    "\n",
    ">> 2.-Convertir los datos de entrada string a **int()** o **float()** de acuerdo a los datos que se manejaran.  \n"
   ]
  },
  {
   "cell_type": "code",
   "execution_count": 1,
   "metadata": {},
   "outputs": [
    {
     "name": "stdout",
     "output_type": "stream",
     "text": [
      "Convertidor de Parsec a  Lightyears\n",
      "2 Parsec is 6.52312 ligthyears\n"
     ]
    }
   ],
   "source": [
    "print (\"Convertidor de Parsec a  Lightyears\")\n",
    "parsec = input(\"Introduce los Parsec: \")\n",
    "lightyears = float(parsec) * 3.26156\n",
    "\n",
    "print(str(parsec) + \" Parsec is \" + str(lightyears) + \" ligthyears\")\n"
   ]
  },
  {
   "cell_type": "code",
   "execution_count": 19,
   "metadata": {},
   "outputs": [
    {
     "name": "stdout",
     "output_type": "stream",
     "text": [
      "Convertidor de  Lightyears a Parsec\n",
      "6.52312 Lightyears is 2.0 parsec\n"
     ]
    }
   ],
   "source": [
    "print (\"Convertidor de  Lightyears a Parsec\")\n",
    "lightyears = input(\"Introduce los Lightyears: \")\n",
    "parsec = float(lightyears) / 3.26156\n",
    "print(str(lightyears) + \" Lightyears is \" + str(parsec) + \" parsec\")"
   ]
  },
  {
   "cell_type": "markdown",
   "metadata": {},
   "source": [
    "## Ejemplos de práctica "
   ]
  },
  {
   "cell_type": "code",
   "execution_count": 4,
   "metadata": {},
   "outputs": [
    {
     "name": "stdout",
     "output_type": "stream",
     "text": [
      "Hoy es: 2022-02-07\n",
      "Bienvenido ...\n",
      "Hola Josue!\n"
     ]
    }
   ],
   "source": [
    "\n",
    "\n",
    "from datetime import date\n",
    "\n",
    "print (\"Hoy es: \" + str(date.today()))\n",
    "\n",
    "print (\"Bienvenido ...\")\n",
    "\n",
    "name = input(\"Introduzca su nombre\")\n",
    "\n",
    "print (\"Hola \" + name + \"!\")\n",
    "\n"
   ]
  }
 ],
 "metadata": {
  "interpreter": {
   "hash": "90a4ae79acd39aaf43b52fd6250d6c279ea81b815fe3d1d65967881191566a77"
  },
  "kernelspec": {
   "display_name": "Python 3.8.3 32-bit",
   "language": "python",
   "name": "python3"
  },
  "language_info": {
   "codemirror_mode": {
    "name": "ipython",
    "version": 3
   },
   "file_extension": ".py",
   "mimetype": "text/x-python",
   "name": "python",
   "nbconvert_exporter": "python",
   "pygments_lexer": "ipython3",
   "version": "3.8.3"
  },
  "orig_nbformat": 4
 },
 "nbformat": 4,
 "nbformat_minor": 2
}
